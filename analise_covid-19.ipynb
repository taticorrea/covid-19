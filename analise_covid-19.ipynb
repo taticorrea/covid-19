{
 "cells": [
  {
   "cell_type": "code",
   "execution_count": 761,
   "metadata": {},
   "outputs": [],
   "source": [
    "%matplotlib inline\n",
    "import numpy as np\n",
    "import pandas as pd\n",
    "import matplotlib.pyplot as plt\n",
    "from datetime import datetime, timedelta\n",
    "import matplotlib.ticker as ticker"
   ]
  },
  {
   "cell_type": "code",
   "execution_count": 732,
   "metadata": {},
   "outputs": [],
   "source": [
    "'''\n",
    "1 - Abri o arquivo na forma de DataFrame\n",
    "2 - Como o arquivo veio com uma coluna apenas, transformei em 7 colunas\n",
    "3 - Deletei a coluna única\n",
    "'''\n",
    "\n",
    "file = pd.read_csv('COVID19.csv')\n",
    "file['region'],file['sigla'],file['date'],file['cases_inc'],file['cases'],file['deaths_inc'],file['deaths']= file['region;sigla;date;cases_inc;cases;deaths_inc;deaths'].str.split(\";\", 7).str\n",
    "\n",
    "del file['region;sigla;date;cases_inc;cases;deaths_inc;deaths']"
   ]
  },
  {
   "cell_type": "markdown",
   "metadata": {},
   "source": [
    "<h1>Mortes por dia (BRASIL)</h1>"
   ]
  },
  {
   "cell_type": "code",
   "execution_count": 734,
   "metadata": {},
   "outputs": [],
   "source": [
    "'''\n",
    "1 - Pegando as colunas de interesse\n",
    "2 - Transformando o número de mortes em inteiros\n",
    "3 - Transformando as datas em dates\n",
    "'''\n",
    "\n",
    "microDados = file.filter(items=['date','deaths'])\n",
    "microDados['deaths'] = microDados.deaths.astype('int64')\n",
    "microDados['date'] = microDados.date.astype('datetime64[D]')"
   ]
  },
  {
   "cell_type": "code",
   "execution_count": 741,
   "metadata": {},
   "outputs": [
    {
     "data": {
      "text/plain": [
       "0      2020-01-30\n",
       "1      2020-01-31\n",
       "2      2020-01-02\n",
       "3      2020-02-02\n",
       "4      2020-03-02\n",
       "          ...    \n",
       "1939   2020-06-04\n",
       "1940   2020-07-04\n",
       "1941   2020-08-04\n",
       "1942   2020-09-04\n",
       "1943   2020-10-04\n",
       "Name: date, Length: 1944, dtype: datetime64[ns]"
      ]
     },
     "execution_count": 741,
     "metadata": {},
     "output_type": "execute_result"
    }
   ],
   "source": [
    "microDados['date']"
   ]
  },
  {
   "cell_type": "code",
   "execution_count": 744,
   "metadata": {},
   "outputs": [],
   "source": [
    "dados = microDados.groupby('date').sum()"
   ]
  },
  {
   "cell_type": "code",
   "execution_count": 736,
   "metadata": {},
   "outputs": [
    {
     "data": {
      "text/plain": [
       "72"
      ]
     },
     "execution_count": 736,
     "metadata": {},
     "output_type": "execute_result"
    }
   ],
   "source": [
    "y = list(dados['deaths'])\n",
    "y = sorted(y)\n",
    "len(y)"
   ]
  },
  {
   "cell_type": "code",
   "execution_count": 745,
   "metadata": {},
   "outputs": [
    {
     "data": {
      "text/plain": [
       "0     30/01/2020\n",
       "1     31/01/2020\n",
       "2     01/02/2020\n",
       "3     02/02/2020\n",
       "4     03/02/2020\n",
       "         ...    \n",
       "67    06/04/2020\n",
       "68    07/04/2020\n",
       "69    08/04/2020\n",
       "70    09/04/2020\n",
       "71    10/04/2020\n",
       "Name: date, Length: 72, dtype: object"
      ]
     },
     "execution_count": 745,
     "metadata": {},
     "output_type": "execute_result"
    }
   ],
   "source": [
    "file['date']"
   ]
  },
  {
   "cell_type": "code",
   "execution_count": 746,
   "metadata": {},
   "outputs": [],
   "source": [
    "microDados['date'].drop_duplicates(inplace=True)"
   ]
  },
  {
   "cell_type": "code",
   "execution_count": 748,
   "metadata": {},
   "outputs": [
    {
     "data": {
      "text/plain": [
       "72"
      ]
     },
     "execution_count": 748,
     "metadata": {},
     "output_type": "execute_result"
    }
   ],
   "source": [
    "len(microDados['date'])"
   ]
  },
  {
   "cell_type": "code",
   "execution_count": 771,
   "metadata": {},
   "outputs": [
    {
     "data": {
      "image/png": "[encoded data removed]",
      "text/plain": [
       "<Figure size 1440x360 with 1 Axes>"
      ]
     },
     "metadata": {
      "needs_background": "light"
     },
     "output_type": "display_data"
    }
   ],
   "source": [
    "plt.figure(figsize = (20,5))\n",
    "#plt.scatter(file['date'],file['deaths'], color = 'blue')\n",
    "plt.bar(file['date'],y, color = 'blue', label = 'Mortes diárias')\n",
    "plt.xticks(rotation=60)\n",
    "#plt.xlim(start - np.datetime64(days = 3))\n",
    "ax=plt.gca()\n",
    "ax.xaxis.set_major_locator(ticker.MultipleLocator(7))\n",
    "plt.title('Novos casos diários até 10/04 \\n por Tatiane Corrêa')\n",
    "plt.ylabel('Novos casos diários de mortes por COVID-19')\n",
    "plt.grid(axis='y')\n",
    "plt.legend()\n",
    "plt.savefig('mortes_diarias.png')\n",
    "plt.show()"
   ]
  },
  {
   "cell_type": "code",
   "execution_count": null,
   "metadata": {},
   "outputs": [],
   "source": []
  }
 ],
 "metadata": {
  "kernelspec": {
   "display_name": "Python 3",
   "language": "python",
   "name": "python3"
  },
  "language_info": {
   "codemirror_mode": {
    "name": "ipython",
    "version": 3
   },
   "file_extension": ".py",
   "mimetype": "text/x-python",
   "name": "python",
   "nbconvert_exporter": "python",
   "pygments_lexer": "ipython3",
   "version": "3.7.3"
  }
 },
 "nbformat": 4,
 "nbformat_minor": 4
}
